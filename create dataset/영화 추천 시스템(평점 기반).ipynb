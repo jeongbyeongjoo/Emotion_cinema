{
 "cells": [
  {
   "cell_type": "markdown",
   "id": "f2f4f03e-c151-498e-b31b-67851b38b66f",
   "metadata": {},
   "source": [
    "# 영화 추천 시스템"
   ]
  },
  {
   "cell_type": "code",
   "execution_count": 2,
   "id": "8b0d5a9f-60dc-4602-b849-9787e2242cc6",
   "metadata": {},
   "outputs": [],
   "source": [
    "import pandas as pd\n",
    "import numpy as np\n",
    "\n",
    "df = pd.read_json('all_movies.json')"
   ]
  },
  {
   "cell_type": "code",
   "execution_count": 3,
   "id": "187f8453-e6a7-4d04-bc46-504ab17ab0d9",
   "metadata": {},
   "outputs": [
    {
     "data": {
      "text/html": [
       "<div>\n",
       "<style scoped>\n",
       "    .dataframe tbody tr th:only-of-type {\n",
       "        vertical-align: middle;\n",
       "    }\n",
       "\n",
       "    .dataframe tbody tr th {\n",
       "        vertical-align: top;\n",
       "    }\n",
       "\n",
       "    .dataframe thead th {\n",
       "        text-align: right;\n",
       "    }\n",
       "</style>\n",
       "<table border=\"1\" class=\"dataframe\">\n",
       "  <thead>\n",
       "    <tr style=\"text-align: right;\">\n",
       "      <th></th>\n",
       "      <th>adult</th>\n",
       "      <th>backdrop_path</th>\n",
       "      <th>genre_ids</th>\n",
       "      <th>id</th>\n",
       "      <th>original_language</th>\n",
       "      <th>original_title</th>\n",
       "      <th>overview</th>\n",
       "      <th>popularity</th>\n",
       "      <th>poster_path</th>\n",
       "      <th>release_date</th>\n",
       "      <th>title</th>\n",
       "      <th>video</th>\n",
       "      <th>vote_average</th>\n",
       "      <th>vote_count</th>\n",
       "    </tr>\n",
       "  </thead>\n",
       "  <tbody>\n",
       "    <tr>\n",
       "      <th>0</th>\n",
       "      <td>False</td>\n",
       "      <td>/2Nti3gYAX513wvhp8IiLL6ZDyOm.jpg</td>\n",
       "      <td>[10751, 35, 12, 14]</td>\n",
       "      <td>950387</td>\n",
       "      <td>en</td>\n",
       "      <td>A Minecraft Movie</td>\n",
       "      <td>왕년의 게임 챔피언이었지만 지금은 폐업 직전의 게임샵 주인이 된 '개릿'과 엄마를 ...</td>\n",
       "      <td>868.2685</td>\n",
       "      <td>/k5aQ2TqKcQFwPoXHkpAGoKNVDLZ.jpg</td>\n",
       "      <td>2025-03-31</td>\n",
       "      <td>A MINECRAFT MOVIE 마인크래프트 무비</td>\n",
       "      <td>False</td>\n",
       "      <td>6.516</td>\n",
       "      <td>1182</td>\n",
       "    </tr>\n",
       "    <tr>\n",
       "      <th>1</th>\n",
       "      <td>False</td>\n",
       "      <td>/tyfO9jHgkhypUFizRVYD0bytPjP.jpg</td>\n",
       "      <td>[10751, 14]</td>\n",
       "      <td>447273</td>\n",
       "      <td>en</td>\n",
       "      <td>Snow White</td>\n",
       "      <td>눈보라가 몰아치던 겨울 밤 태어난 백설공주. 온정이 넘치던 왕국에서 모두의 사랑을 ...</td>\n",
       "      <td>387.4897</td>\n",
       "      <td>/7EruTgYzDFM8kWhr2ysuuwoXFqk.jpg</td>\n",
       "      <td>2025-03-12</td>\n",
       "      <td>백설공주</td>\n",
       "      <td>False</td>\n",
       "      <td>4.300</td>\n",
       "      <td>808</td>\n",
       "    </tr>\n",
       "    <tr>\n",
       "      <th>2</th>\n",
       "      <td>False</td>\n",
       "      <td>/j0NUh5irX7q2jIRtbLo8TZyRn6y.jpg</td>\n",
       "      <td>[27, 9648, 35]</td>\n",
       "      <td>574475</td>\n",
       "      <td>en</td>\n",
       "      <td>Final Destination Bloodlines</td>\n",
       "      <td>끝없는 악몽에 시달리던 ‘스테파니’는 그 원인을 찾던 중  집안 대대로 내려오는 죽...</td>\n",
       "      <td>386.4101</td>\n",
       "      <td>/oS0b0iiwEW2T9vcGHFYpTlTPmuI.jpg</td>\n",
       "      <td>2025-05-09</td>\n",
       "      <td>파이널 데스티네이션: 블러드라인</td>\n",
       "      <td>False</td>\n",
       "      <td>7.380</td>\n",
       "      <td>171</td>\n",
       "    </tr>\n",
       "    <tr>\n",
       "      <th>3</th>\n",
       "      <td>False</td>\n",
       "      <td>/cJvUJEEQ86LSjl4gFLkYpdCJC96.jpg</td>\n",
       "      <td>[10752, 28]</td>\n",
       "      <td>1241436</td>\n",
       "      <td>en</td>\n",
       "      <td>Warfare</td>\n",
       "      <td>\"실화 기반, 전장의 숨결을 생생히 담아낸 리얼 타임 전쟁 드라마\"  2006년 이...</td>\n",
       "      <td>379.8887</td>\n",
       "      <td>/srj9rYrjefyWqkLc6l2xjTGeBGO.jpg</td>\n",
       "      <td>2025-04-09</td>\n",
       "      <td>워페어</td>\n",
       "      <td>False</td>\n",
       "      <td>7.119</td>\n",
       "      <td>324</td>\n",
       "    </tr>\n",
       "    <tr>\n",
       "      <th>4</th>\n",
       "      <td>False</td>\n",
       "      <td>/fTrQsdMS2MUw00RnzH0r3JWHhts.jpg</td>\n",
       "      <td>[28, 80, 53]</td>\n",
       "      <td>1197306</td>\n",
       "      <td>en</td>\n",
       "      <td>A Working Man</td>\n",
       "      <td>전직 블랙 옵스 요원이었던 레본 케이드(제이슨 스타뎀)는 평범한 건설 노동자로 살아...</td>\n",
       "      <td>357.3065</td>\n",
       "      <td>/tK5sCN4cebvTt9MuSlNHehVQnYg.jpg</td>\n",
       "      <td>2025-03-26</td>\n",
       "      <td>워킹맨</td>\n",
       "      <td>False</td>\n",
       "      <td>6.500</td>\n",
       "      <td>748</td>\n",
       "    </tr>\n",
       "  </tbody>\n",
       "</table>\n",
       "</div>"
      ],
      "text/plain": [
       "   adult                     backdrop_path            genre_ids       id  \\\n",
       "0  False  /2Nti3gYAX513wvhp8IiLL6ZDyOm.jpg  [10751, 35, 12, 14]   950387   \n",
       "1  False  /tyfO9jHgkhypUFizRVYD0bytPjP.jpg          [10751, 14]   447273   \n",
       "2  False  /j0NUh5irX7q2jIRtbLo8TZyRn6y.jpg       [27, 9648, 35]   574475   \n",
       "3  False  /cJvUJEEQ86LSjl4gFLkYpdCJC96.jpg          [10752, 28]  1241436   \n",
       "4  False  /fTrQsdMS2MUw00RnzH0r3JWHhts.jpg         [28, 80, 53]  1197306   \n",
       "\n",
       "  original_language                original_title  \\\n",
       "0                en             A Minecraft Movie   \n",
       "1                en                    Snow White   \n",
       "2                en  Final Destination Bloodlines   \n",
       "3                en                       Warfare   \n",
       "4                en                 A Working Man   \n",
       "\n",
       "                                            overview  popularity  \\\n",
       "0  왕년의 게임 챔피언이었지만 지금은 폐업 직전의 게임샵 주인이 된 '개릿'과 엄마를 ...    868.2685   \n",
       "1  눈보라가 몰아치던 겨울 밤 태어난 백설공주. 온정이 넘치던 왕국에서 모두의 사랑을 ...    387.4897   \n",
       "2  끝없는 악몽에 시달리던 ‘스테파니’는 그 원인을 찾던 중  집안 대대로 내려오는 죽...    386.4101   \n",
       "3  \"실화 기반, 전장의 숨결을 생생히 담아낸 리얼 타임 전쟁 드라마\"  2006년 이...    379.8887   \n",
       "4  전직 블랙 옵스 요원이었던 레본 케이드(제이슨 스타뎀)는 평범한 건설 노동자로 살아...    357.3065   \n",
       "\n",
       "                        poster_path release_date                        title  \\\n",
       "0  /k5aQ2TqKcQFwPoXHkpAGoKNVDLZ.jpg   2025-03-31  A MINECRAFT MOVIE 마인크래프트 무비   \n",
       "1  /7EruTgYzDFM8kWhr2ysuuwoXFqk.jpg   2025-03-12                         백설공주   \n",
       "2  /oS0b0iiwEW2T9vcGHFYpTlTPmuI.jpg   2025-05-09            파이널 데스티네이션: 블러드라인   \n",
       "3  /srj9rYrjefyWqkLc6l2xjTGeBGO.jpg   2025-04-09                          워페어   \n",
       "4  /tK5sCN4cebvTt9MuSlNHehVQnYg.jpg   2025-03-26                          워킹맨   \n",
       "\n",
       "   video  vote_average  vote_count  \n",
       "0  False         6.516        1182  \n",
       "1  False         4.300         808  \n",
       "2  False         7.380         171  \n",
       "3  False         7.119         324  \n",
       "4  False         6.500         748  "
      ]
     },
     "execution_count": 3,
     "metadata": {},
     "output_type": "execute_result"
    }
   ],
   "source": [
    "df.head()"
   ]
  },
  {
   "cell_type": "code",
   "execution_count": 4,
   "id": "394680d0-a5c2-4d58-a892-505165ff01ad",
   "metadata": {},
   "outputs": [
    {
     "data": {
      "text/plain": [
       "(9979, 14)"
      ]
     },
     "execution_count": 4,
     "metadata": {},
     "output_type": "execute_result"
    }
   ],
   "source": [
    "df.shape"
   ]
  },
  {
   "cell_type": "code",
   "execution_count": 5,
   "id": "59c25dba-b6a7-4397-a92a-eb32ecee36e1",
   "metadata": {},
   "outputs": [
    {
     "data": {
      "text/plain": [
       "Index(['adult', 'backdrop_path', 'genre_ids', 'id', 'original_language',\n",
       "       'original_title', 'overview', 'popularity', 'poster_path',\n",
       "       'release_date', 'title', 'video', 'vote_average', 'vote_count'],\n",
       "      dtype='object')"
      ]
     },
     "execution_count": 5,
     "metadata": {},
     "output_type": "execute_result"
    }
   ],
   "source": [
    "df.columns"
   ]
  },
  {
   "cell_type": "code",
   "execution_count": 6,
   "id": "76ff5f55-41a8-409c-9a29-05304c5d29ed",
   "metadata": {},
   "outputs": [
    {
     "data": {
      "text/plain": [
       "6.263448742358954"
      ]
     },
     "execution_count": 6,
     "metadata": {},
     "output_type": "execute_result"
    }
   ],
   "source": [
    "c = df['vote_average'].mean()\n",
    "c"
   ]
  },
  {
   "cell_type": "code",
   "execution_count": 7,
   "id": "fcc4a7ad-4134-4bab-bc35-0b90c1ecdd06",
   "metadata": {},
   "outputs": [
    {
     "data": {
      "text/plain": [
       "4680.000000000004"
      ]
     },
     "execution_count": 7,
     "metadata": {},
     "output_type": "execute_result"
    }
   ],
   "source": [
    "m = df['vote_count'].quantile(0.9)\n",
    "m"
   ]
  },
  {
   "cell_type": "code",
   "execution_count": 8,
   "id": "1dcbea81-1d15-424f-bc6d-bd95d2e9f867",
   "metadata": {},
   "outputs": [
    {
     "data": {
      "text/plain": [
       "(998, 14)"
      ]
     },
     "execution_count": 8,
     "metadata": {},
     "output_type": "execute_result"
    }
   ],
   "source": [
    "q_movies = df.copy().loc[df['vote_count'] >= m]\n",
    "q_movies.shape"
   ]
  },
  {
   "cell_type": "code",
   "execution_count": 9,
   "id": "86915043-1075-47c7-b774-4df18e9551a8",
   "metadata": {},
   "outputs": [
    {
     "data": {
      "text/plain": [
       "243      4684\n",
       "1887     4685\n",
       "1599     4685\n",
       "2397     4691\n",
       "789      4693\n",
       "        ...  \n",
       "124     31789\n",
       "174     32229\n",
       "130     33836\n",
       "86      37112\n",
       "173     37452\n",
       "Name: vote_count, Length: 998, dtype: int64"
      ]
     },
     "execution_count": 9,
     "metadata": {},
     "output_type": "execute_result"
    }
   ],
   "source": [
    "q_movies['vote_count'].sort_values()"
   ]
  },
  {
   "cell_type": "code",
   "execution_count": 10,
   "id": "66268b96-78f2-4e45-8da7-80102d29da38",
   "metadata": {},
   "outputs": [],
   "source": [
    "def weighted_rating(x, m=m, c=c):\n",
    "    v = x['vote_count']\n",
    "    R = x['vote_average']\n",
    "    return (v / (v + m) * R) + (m / (m + v) * c)"
   ]
  },
  {
   "cell_type": "code",
   "execution_count": 11,
   "id": "ed70bcc8-7c7b-4b1b-a129-a8db70aa9147",
   "metadata": {},
   "outputs": [],
   "source": [
    "q_movies['score'] = q_movies.apply(weighted_rating, axis=1)"
   ]
  },
  {
   "cell_type": "code",
   "execution_count": 12,
   "id": "3aa13ea3-17e3-450f-a168-2d1b829a71a2",
   "metadata": {},
   "outputs": [
    {
     "data": {
      "text/html": [
       "<div>\n",
       "<style scoped>\n",
       "    .dataframe tbody tr th:only-of-type {\n",
       "        vertical-align: middle;\n",
       "    }\n",
       "\n",
       "    .dataframe tbody tr th {\n",
       "        vertical-align: top;\n",
       "    }\n",
       "\n",
       "    .dataframe thead th {\n",
       "        text-align: right;\n",
       "    }\n",
       "</style>\n",
       "<table border=\"1\" class=\"dataframe\">\n",
       "  <thead>\n",
       "    <tr style=\"text-align: right;\">\n",
       "      <th></th>\n",
       "      <th>title</th>\n",
       "      <th>genre_ids</th>\n",
       "      <th>id</th>\n",
       "      <th>vote_count</th>\n",
       "      <th>vote_average</th>\n",
       "      <th>score</th>\n",
       "    </tr>\n",
       "  </thead>\n",
       "  <tbody>\n",
       "    <tr>\n",
       "      <th>135</th>\n",
       "      <td>쇼생크 탈출</td>\n",
       "      <td>[18, 80]</td>\n",
       "      <td>278</td>\n",
       "      <td>28279</td>\n",
       "      <td>8.710</td>\n",
       "      <td>8.362603</td>\n",
       "    </tr>\n",
       "    <tr>\n",
       "      <th>49</th>\n",
       "      <td>대부</td>\n",
       "      <td>[18, 80]</td>\n",
       "      <td>238</td>\n",
       "      <td>21437</td>\n",
       "      <td>8.686</td>\n",
       "      <td>8.251894</td>\n",
       "    </tr>\n",
       "    <tr>\n",
       "      <th>130</th>\n",
       "      <td>다크 나이트</td>\n",
       "      <td>[18, 28, 80, 53]</td>\n",
       "      <td>155</td>\n",
       "      <td>33836</td>\n",
       "      <td>8.519</td>\n",
       "      <td>8.244933</td>\n",
       "    </tr>\n",
       "    <tr>\n",
       "      <th>86</th>\n",
       "      <td>인터스텔라</td>\n",
       "      <td>[12, 18, 878]</td>\n",
       "      <td>157336</td>\n",
       "      <td>37112</td>\n",
       "      <td>8.455</td>\n",
       "      <td>8.209583</td>\n",
       "    </tr>\n",
       "    <tr>\n",
       "      <th>329</th>\n",
       "      <td>펄프 픽션</td>\n",
       "      <td>[53, 80]</td>\n",
       "      <td>680</td>\n",
       "      <td>28655</td>\n",
       "      <td>8.500</td>\n",
       "      <td>8.186004</td>\n",
       "    </tr>\n",
       "    <tr>\n",
       "      <th>208</th>\n",
       "      <td>포레스트 검프</td>\n",
       "      <td>[35, 18, 10749]</td>\n",
       "      <td>13</td>\n",
       "      <td>28195</td>\n",
       "      <td>8.468</td>\n",
       "      <td>8.154166</td>\n",
       "    </tr>\n",
       "    <tr>\n",
       "      <th>209</th>\n",
       "      <td>파이트 클럽</td>\n",
       "      <td>[18]</td>\n",
       "      <td>550</td>\n",
       "      <td>30248</td>\n",
       "      <td>8.438</td>\n",
       "      <td>8.146632</td>\n",
       "    </tr>\n",
       "    <tr>\n",
       "      <th>173</th>\n",
       "      <td>인셉션</td>\n",
       "      <td>[28, 878, 12]</td>\n",
       "      <td>27205</td>\n",
       "      <td>37452</td>\n",
       "      <td>8.369</td>\n",
       "      <td>8.135116</td>\n",
       "    </tr>\n",
       "    <tr>\n",
       "      <th>268</th>\n",
       "      <td>반지의 제왕: 왕의 귀환</td>\n",
       "      <td>[12, 14, 28]</td>\n",
       "      <td>122</td>\n",
       "      <td>25064</td>\n",
       "      <td>8.484</td>\n",
       "      <td>8.134613</td>\n",
       "    </tr>\n",
       "    <tr>\n",
       "      <th>201</th>\n",
       "      <td>반지의 제왕: 반지 원정대</td>\n",
       "      <td>[12, 14, 28]</td>\n",
       "      <td>120</td>\n",
       "      <td>25957</td>\n",
       "      <td>8.421</td>\n",
       "      <td>8.091420</td>\n",
       "    </tr>\n",
       "  </tbody>\n",
       "</table>\n",
       "</div>"
      ],
      "text/plain": [
       "              title         genre_ids      id  vote_count  vote_average  \\\n",
       "135          쇼생크 탈출          [18, 80]     278       28279         8.710   \n",
       "49               대부          [18, 80]     238       21437         8.686   \n",
       "130          다크 나이트  [18, 28, 80, 53]     155       33836         8.519   \n",
       "86            인터스텔라     [12, 18, 878]  157336       37112         8.455   \n",
       "329           펄프 픽션          [53, 80]     680       28655         8.500   \n",
       "208         포레스트 검프   [35, 18, 10749]      13       28195         8.468   \n",
       "209          파이트 클럽              [18]     550       30248         8.438   \n",
       "173             인셉션     [28, 878, 12]   27205       37452         8.369   \n",
       "268   반지의 제왕: 왕의 귀환      [12, 14, 28]     122       25064         8.484   \n",
       "201  반지의 제왕: 반지 원정대      [12, 14, 28]     120       25957         8.421   \n",
       "\n",
       "        score  \n",
       "135  8.362603  \n",
       "49   8.251894  \n",
       "130  8.244933  \n",
       "86   8.209583  \n",
       "329  8.186004  \n",
       "208  8.154166  \n",
       "209  8.146632  \n",
       "173  8.135116  \n",
       "268  8.134613  \n",
       "201  8.091420  "
      ]
     },
     "execution_count": 12,
     "metadata": {},
     "output_type": "execute_result"
    }
   ],
   "source": [
    "q_movies = q_movies.sort_values('score', ascending=False)\n",
    "q_movies[['title', 'genre_ids', 'id', 'vote_count', 'vote_average', 'score']].head(10)"
   ]
  },
  {
   "cell_type": "code",
   "execution_count": 13,
   "id": "3047b6be-b846-4fe4-89ab-288186090ca0",
   "metadata": {},
   "outputs": [],
   "source": [
    "q_movies[['title', 'genre_ids', 'id','poster_path', 'vote_count', 'vote_average', 'score']].to_json(\"movies_top10.json\", orient='records', force_ascii=False, indent=2)"
   ]
  },
  {
   "cell_type": "code",
   "execution_count": null,
   "id": "4b50fb39-b357-44d1-b1d7-98c94b3f0242",
   "metadata": {},
   "outputs": [],
   "source": []
  },
  {
   "cell_type": "code",
   "execution_count": null,
   "id": "eead7222-b2aa-43f0-8ee1-fd572fa13a0b",
   "metadata": {},
   "outputs": [],
   "source": []
  },
  {
   "cell_type": "code",
   "execution_count": null,
   "id": "66f37d26-54aa-4b1c-8bda-efe73f2c7a84",
   "metadata": {},
   "outputs": [],
   "source": []
  },
  {
   "cell_type": "code",
   "execution_count": null,
   "id": "222d793d-b15b-4133-8086-22d5a8776702",
   "metadata": {},
   "outputs": [],
   "source": []
  }
 ],
 "metadata": {
  "kernelspec": {
   "display_name": "Python 3 (ipykernel)",
   "language": "python",
   "name": "python3"
  },
  "language_info": {
   "codemirror_mode": {
    "name": "ipython",
    "version": 3
   },
   "file_extension": ".py",
   "mimetype": "text/x-python",
   "name": "python",
   "nbconvert_exporter": "python",
   "pygments_lexer": "ipython3",
   "version": "3.12.7"
  }
 },
 "nbformat": 4,
 "nbformat_minor": 5
}
